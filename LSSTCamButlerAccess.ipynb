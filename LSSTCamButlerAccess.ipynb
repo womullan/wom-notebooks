{
 "cells": [
  {
   "cell_type": "markdown",
   "id": "5f5acdc9-11e6-4bb7-8900-19031db81d4d",
   "metadata": {},
   "source": [
    "# extract FITS image for LSSTCam   "
   ]
  },
  {
   "cell_type": "code",
   "execution_count": 6,
   "id": "6886f1f9-e461-4cb4-89d3-f1b966cac1b8",
   "metadata": {
    "execution": {
     "iopub.execute_input": "2025-05-29T21:15:06.448706Z",
     "iopub.status.busy": "2025-05-29T21:15:06.448360Z",
     "iopub.status.idle": "2025-05-29T21:15:08.199667Z",
     "shell.execute_reply": "2025-05-29T21:15:08.199194Z",
     "shell.execute_reply.started": "2025-05-29T21:15:06.448688Z"
    }
   },
   "outputs": [],
   "source": [
    "from lsst.daf.butler import Butler\n",
    "import pathlib\n"
   ]
  },
  {
   "cell_type": "code",
   "execution_count": 7,
   "id": "87423a9d-7b52-4ede-bdfc-95a136b33af7",
   "metadata": {
    "execution": {
     "iopub.execute_input": "2025-05-29T21:15:42.674447Z",
     "iopub.status.busy": "2025-05-29T21:15:42.674098Z",
     "iopub.status.idle": "2025-05-29T21:15:45.792163Z",
     "shell.execute_reply": "2025-05-29T21:15:45.791681Z",
     "shell.execute_reply.started": "2025-05-29T21:15:42.674430Z"
    }
   },
   "outputs": [
    {
     "data": {
      "text/html": [
       "<pre style=\"margin: 0.1em;\n",
       "padding-left: 0.25em;\n",
       "border-left-style: solid;\n",
       "font-family: var(--jp-code-font-family);\n",
       "font-size: var(--jp-code-font-size);\n",
       "line-height: var(--jp-code-line-height);\n",
       "\"><span style=\"color: var(--jp-warn-color2)\">botocore.credentials</span> <span style=\"color: var(--jp-info-color0)\">INFO</span>: Found credentials in shared credentials file: /home/o/omullan/.lsst/aws-credentials.ini</pre>"
      ],
      "text/plain": [
       "<IPython.core.display.HTML object>"
      ]
     },
     "metadata": {},
     "output_type": "display_data"
    }
   ],
   "source": [
    "repo = 'embargo'\n",
    "instrument = 'LSSTCam'\n",
    "datasetType = 'post_isr_image'\n",
    "#datasetType = 'preliminary_visit_image'  # background subtracted calibrated image that detection has run on\n",
    "\n",
    "collections = [\"LSSTCam/runs/nightlyValidation\", \"LSSTCam/defaults\",]\n",
    "\n",
    "butler = Butler(repo, collections=collections, instrument=instrument)\n",
    "\n",
    "\n",
    "\n",
    "#uncomment to get the help page\n",
    "#help(Butler) "
   ]
  },
  {
   "cell_type": "markdown",
   "id": "f1b0bf5b-14af-471e-a8d6-8a2fa1b3d17a",
   "metadata": {
    "tags": []
   },
   "source": [
    "## Find the exposures\n",
    "\n",
    "BLOCK-T519 is the LSSTCam Local Meridian Observations at 80 deg elevation on day = 20250524\n",
    "\n",
    "BLOCK-T517 — LSSTCam “Sidereal drive off tests” with and without sidereal tracking on day = 20250522\n",
    "\n",
    "May 22 and 24 had science quality images of M49, Cosmos and dithered star field\n"
   ]
  },
  {
   "cell_type": "code",
   "execution_count": 32,
   "id": "3005a038-a9fc-485e-bb75-bd78023ce0be",
   "metadata": {
    "execution": {
     "iopub.execute_input": "2025-05-27T17:50:11.216688Z",
     "iopub.status.busy": "2025-05-27T17:50:11.216423Z",
     "iopub.status.idle": "2025-05-27T17:50:12.394079Z",
     "shell.execute_reply": "2025-05-27T17:50:12.393528Z",
     "shell.execute_reply.started": "2025-05-27T17:50:11.216673Z"
    }
   },
   "outputs": [
    {
     "name": "stdout",
     "output_type": "stream",
     "text": [
      "got 30316 datsets\n"
     ]
    }
   ],
   "source": [
    "\n",
    "day = 20250522\n",
    "day2 = 20250524\n",
    "\n",
    "block = 'BLOCK-T519'  \n",
    "datasetType = 'post_isr_image'\n",
    "\n",
    "result = butler.query_datasets( datasetType, limit=None, \n",
    "        where = f\"(day_obs = {day} OR day_obs = {day2})   AND exposure.science_program='{block}' \"\n",
    "\n",
    "                             )\n",
    "meridianresults = [r for r in result]\n",
    "\n",
    "print (f\"got {len(meridianresults)} datsets\")\n"
   ]
  },
  {
   "cell_type": "code",
   "execution_count": 36,
   "id": "67012886-bcdf-433b-b7a2-c74182226d25",
   "metadata": {
    "execution": {
     "iopub.execute_input": "2025-05-27T17:56:10.135883Z",
     "iopub.status.busy": "2025-05-27T17:56:10.135572Z",
     "iopub.status.idle": "2025-05-27T17:56:11.990404Z",
     "shell.execute_reply": "2025-05-27T17:56:11.989945Z",
     "shell.execute_reply.started": "2025-05-27T17:56:10.135867Z"
    }
   },
   "outputs": [
    {
     "data": {
      "text/plain": [
       "[ResourcePath(\"file:///home/o/omullan/notebooks/LSSTCam/runs/nightlyValidation/19/post_isr_image/20250522/MC_O_20250522_000237/post_isr_image_LSSTCam_r_57_MC_O_20250522_000237_R01_S00_LSSTCam_runs_nightlyValidation_19.fits\"),\n",
       " ResourcePath(\"file:///home/o/omullan/notebooks/LSSTCam/runs/nightlyValidation/19/post_isr_image/20250522/MC_O_20250522_000238/post_isr_image_LSSTCam_r_57_MC_O_20250522_000238_R01_S00_LSSTCam_runs_nightlyValidation_19.fits\")]"
      ]
     },
     "execution_count": 36,
     "metadata": {},
     "output_type": "execute_result"
    }
   ],
   "source": [
    "#  just wrting out 2 .. \n",
    "path = \"..\"\n",
    "butler.retrieveArtifacts(destination = path, refs=[meridianresults[2],meridianresults[3]])"
   ]
  },
  {
   "cell_type": "code",
   "execution_count": 40,
   "id": "4c211a24-aa7a-4637-a090-dc998f71cea5",
   "metadata": {
    "execution": {
     "iopub.execute_input": "2025-05-27T18:02:35.719890Z",
     "iopub.status.busy": "2025-05-27T18:02:35.719674Z",
     "iopub.status.idle": "2025-05-27T18:02:36.339529Z",
     "shell.execute_reply": "2025-05-27T18:02:36.339010Z",
     "shell.execute_reply.started": "2025-05-27T18:02:35.719875Z"
    }
   },
   "outputs": [
    {
     "name": "stdout",
     "output_type": "stream",
     "text": [
      "got 14880 images\n"
     ]
    }
   ],
   "source": [
    "\n",
    "day = 20250522\n",
    "block = 'BLOCK-T517'  \n",
    "\n",
    "result = butler.query_datasets( datasetType, limit=None,  where = \n",
    "          f\"day_obs = {day}   AND exposure.science_program='{block}' \"\n",
    "\n",
    "                             )\n",
    "nonsiderealresult = [r for r in result]\n",
    "\n",
    "print (f\"got {len(nonsiderealresult)} images\")"
   ]
  },
  {
   "cell_type": "code",
   "execution_count": 41,
   "id": "004a6a62-fadc-4e5c-8328-635c36db3d1a",
   "metadata": {
    "execution": {
     "iopub.execute_input": "2025-05-27T18:02:39.648057Z",
     "iopub.status.busy": "2025-05-27T18:02:39.647700Z",
     "iopub.status.idle": "2025-05-27T18:02:42.227488Z",
     "shell.execute_reply": "2025-05-27T18:02:42.227012Z",
     "shell.execute_reply.started": "2025-05-27T18:02:39.648037Z"
    }
   },
   "outputs": [
    {
     "name": "stdout",
     "output_type": "stream",
     "text": [
      "post_isr_image@{instrument: 'LSSTCam', detector: 0, exposure: 2025052200140, band: 'r', day_obs: 20250522, group: '2025-05-23T00:28:42.492', physical_filter: 'r_57'} [sc=Exposure] (run=LSSTCam/runs/nightlyValidation/19 id=12dba2f8-01db-4679-94d0-2ae43471908e)\n"
     ]
    },
    {
     "data": {
      "text/plain": [
       "[ResourcePath(\"file:///home/o/omullan/notebooks/LSSTCam/runs/nightlyValidation/19/post_isr_image/20250522/MC_O_20250522_000140/post_isr_image_LSSTCam_r_57_MC_O_20250522_000140_R01_S00_LSSTCam_runs_nightlyValidation_19.fits\"),\n",
       " ResourcePath(\"file:///home/o/omullan/notebooks/LSSTCam/runs/nightlyValidation/19/post_isr_image/20250522/MC_O_20250522_000141/post_isr_image_LSSTCam_r_57_MC_O_20250522_000141_R01_S00_LSSTCam_runs_nightlyValidation_19.fits\")]"
      ]
     },
     "execution_count": 41,
     "metadata": {},
     "output_type": "execute_result"
    }
   ],
   "source": [
    "#  just wrting out 2 .. \n",
    "print (nonsiderealresult[2])\n",
    "path = \"..\"\n",
    "butler.retrieveArtifacts(destination = path, refs=[nonsiderealresult[2],nonsiderealresult[3]])"
   ]
  },
  {
   "cell_type": "code",
   "execution_count": 18,
   "id": "ed7c382e-8962-4799-9597-42127d495a88",
   "metadata": {
    "execution": {
     "iopub.execute_input": "2025-05-29T21:42:31.370465Z",
     "iopub.status.busy": "2025-05-29T21:42:31.370254Z",
     "iopub.status.idle": "2025-05-29T21:42:31.504738Z",
     "shell.execute_reply": "2025-05-29T21:42:31.504260Z",
     "shell.execute_reply.started": "2025-05-29T21:42:31.370450Z"
    }
   },
   "outputs": [
    {
     "name": "stdout",
     "output_type": "stream",
     "text": [
      "[158 159 160 161 162 163 164 165 166 167 138 139 140 141 142 143 144 145\n",
      " 146 147]\n",
      "got 3720 images\n"
     ]
    }
   ],
   "source": [
    "import numpy as np\n",
    "\n",
    "day = 20250522\n",
    "target = 'M49'  # change to Prawn etc. to get others\n",
    "seqnums = np.append( np.arange(158,168), np.arange(138,148))\n",
    "print (seqnums) \n",
    "                        \n",
    "result = butler.query_datasets( datasetType, limit=None,  where = \n",
    "    \"day_obs = dayObs AND exposure.target_name = target and exposure.seq_num in (seqnums)\",\n",
    "    bind={\"dayObs\": day, \"target\": target ,\"seqnums\": seqnums.tolist()}\n",
    "                              )\n",
    "results = [r for r in result]\n",
    "\n",
    "print (f\"got {len(results)} images\")"
   ]
  },
  {
   "cell_type": "code",
   "execution_count": 19,
   "id": "e73baea7-bbee-4e12-aec8-2c165daac1ff",
   "metadata": {
    "execution": {
     "iopub.execute_input": "2025-05-29T21:42:37.399142Z",
     "iopub.status.busy": "2025-05-29T21:42:37.398789Z",
     "iopub.status.idle": "2025-05-29T21:42:39.043489Z",
     "shell.execute_reply": "2025-05-29T21:42:39.043066Z",
     "shell.execute_reply.started": "2025-05-29T21:42:37.399116Z"
    }
   },
   "outputs": [
    {
     "data": {
      "text/plain": [
       "[ResourcePath(\"file:///home/o/omullan/notebooks/LSSTCam/runs/nightlyValidation/19/post_isr_image/20250522/MC_O_20250522_000140/post_isr_image_LSSTCam_r_57_MC_O_20250522_000140_R01_S00_LSSTCam_runs_nightlyValidation_19.fits\"),\n",
       " ResourcePath(\"file:///home/o/omullan/notebooks/LSSTCam/runs/nightlyValidation/19/post_isr_image/20250522/MC_O_20250522_000141/post_isr_image_LSSTCam_r_57_MC_O_20250522_000141_R01_S00_LSSTCam_runs_nightlyValidation_19.fits\")]"
      ]
     },
     "execution_count": 19,
     "metadata": {},
     "output_type": "execute_result"
    }
   ],
   "source": [
    "#  just wrting out 2 .. \n",
    "path = \"..\"\n",
    "butler.retrieveArtifacts(destination = path, refs=[results[2],results[3]], overwrite=True)"
   ]
  },
  {
   "cell_type": "markdown",
   "id": "cdbfe194-95be-4a8c-8018-c94a9516a58d",
   "metadata": {},
   "source": [
    "LSSTCam has 202 images per exposure - this will list the exposures. \n",
    "The last digits after the daynumber  match the 'Seq. No.' in RubinTV"
   ]
  },
  {
   "cell_type": "markdown",
   "id": "12458153-0697-42ad-8682-289c715f138c",
   "metadata": {},
   "source": [
    "This is just getting the datasetref for an exposure (this is LSSTcam so that should be 189 images one per detector) unless the corner rafts show up"
   ]
  },
  {
   "cell_type": "markdown",
   "id": "4acdb77a-ffbf-487e-8f59-d73e4d534aa1",
   "metadata": {},
   "source": [
    "## If you want to plot one of these "
   ]
  },
  {
   "cell_type": "code",
   "execution_count": null,
   "id": "a3a6ab8e-658b-4ffd-b765-2924e97773f2",
   "metadata": {},
   "outputs": [],
   "source": [
    "import pylab as plt\n",
    "import lsst.afw.display as afwDisplay\n",
    "\n",
    "afwDisplay.setDefaultBackend('matplotlib')\n",
    "\n",
    "r = results[2]\n",
    "\n",
    "print (r)\n",
    "\n",
    "img = calexp = butler.get(r)\n",
    "\n",
    "fig = plt.figure()\n",
    "display = afwDisplay.Display()\n",
    "display.scale('linear', 'zscale')\n",
    "display.mtv(img)\n",
    "plt.show()"
   ]
  },
  {
   "cell_type": "markdown",
   "id": "177d0a06-dc9d-4b44-8af5-7c14d3e04f9b",
   "metadata": {},
   "source": [
    "# Files\n",
    "Now we have Fits files we can use with external code.\n",
    "We get the list of files we made and process them with SEP (Source Extractor Python) as an example of external code. \n",
    "We will make a list of Objects and store that."
   ]
  },
  {
   "cell_type": "code",
   "execution_count": 22,
   "id": "2ad6d14f-5e44-4bec-98fb-81608230c4e9",
   "metadata": {
    "execution": {
     "iopub.execute_input": "2025-05-29T21:44:59.668778Z",
     "iopub.status.busy": "2025-05-29T21:44:59.668412Z",
     "iopub.status.idle": "2025-05-29T21:44:59.679809Z",
     "shell.execute_reply": "2025-05-29T21:44:59.679370Z",
     "shell.execute_reply.started": "2025-05-29T21:44:59.668759Z"
    }
   },
   "outputs": [
    {
     "name": "stdout",
     "output_type": "stream",
     "text": [
      "['../LSSTCam/runs/nightlyValidation/19/post_isr_image/20250522/MC_O_20250522_000141/post_isr_image_LSSTCam_r_57_MC_O_20250522_000141_R01_S00_LSSTCam_runs_nightlyValidation_19.fits', '../LSSTCam/runs/nightlyValidation/19/post_isr_image/20250522/MC_O_20250522_000237/post_isr_image_LSSTCam_r_57_MC_O_20250522_000237_R01_S00_LSSTCam_runs_nightlyValidation_19.fits', '../LSSTCam/runs/nightlyValidation/19/post_isr_image/20250522/MC_O_20250522_000140/post_isr_image_LSSTCam_r_57_MC_O_20250522_000140_R01_S00_LSSTCam_runs_nightlyValidation_19.fits', '../LSSTCam/runs/nightlyValidation/19/post_isr_image/20250522/MC_O_20250522_000238/post_isr_image_LSSTCam_r_57_MC_O_20250522_000238_R01_S00_LSSTCam_runs_nightlyValidation_19.fits']\n"
     ]
    }
   ],
   "source": [
    "import glob\n",
    "filelist = glob.glob('../LSSTCam/*/*/*/*/*/*/*.fits')\n",
    "print (filelist)"
   ]
  }
 ],
 "metadata": {
  "kernelspec": {
   "display_name": "LSST",
   "language": "python",
   "name": "lsst"
  },
  "language_info": {
   "codemirror_mode": {
    "name": "ipython",
    "version": 3
   },
   "file_extension": ".py",
   "mimetype": "text/x-python",
   "name": "python",
   "nbconvert_exporter": "python",
   "pygments_lexer": "ipython3",
   "version": "3.12.10"
  }
 },
 "nbformat": 4,
 "nbformat_minor": 5
}
