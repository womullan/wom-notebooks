{
 "cells": [
  {
   "cell_type": "markdown",
   "id": "5f5acdc9-11e6-4bb7-8900-19031db81d4d",
   "metadata": {},
   "source": [
    "# extract FITS image for LSSTCam   "
   ]
  },
  {
   "cell_type": "code",
   "execution_count": 2,
   "id": "6886f1f9-e461-4cb4-89d3-f1b966cac1b8",
   "metadata": {
    "execution": {
     "iopub.execute_input": "2025-05-26T22:06:21.877034Z",
     "iopub.status.busy": "2025-05-26T22:06:21.876799Z",
     "iopub.status.idle": "2025-05-26T22:06:23.574517Z",
     "shell.execute_reply": "2025-05-26T22:06:23.574011Z",
     "shell.execute_reply.started": "2025-05-26T22:06:21.877017Z"
    }
   },
   "outputs": [],
   "source": [
    "from lsst.daf.butler import Butler\n",
    "from lsst.daf.butler.registry import Registry\n"
   ]
  },
  {
   "cell_type": "code",
   "execution_count": 3,
   "id": "87423a9d-7b52-4ede-bdfc-95a136b33af7",
   "metadata": {
    "execution": {
     "iopub.execute_input": "2025-05-26T22:06:24.358804Z",
     "iopub.status.busy": "2025-05-26T22:06:24.358092Z",
     "iopub.status.idle": "2025-05-26T22:06:27.532432Z",
     "shell.execute_reply": "2025-05-26T22:06:27.531924Z",
     "shell.execute_reply.started": "2025-05-26T22:06:24.358770Z"
    }
   },
   "outputs": [
    {
     "data": {
      "text/html": [
       "<pre style=\"margin: 0.1em;\n",
       "padding-left: 0.25em;\n",
       "border-left-style: solid;\n",
       "font-family: var(--jp-code-font-family);\n",
       "font-size: var(--jp-code-font-size);\n",
       "line-height: var(--jp-code-line-height);\n",
       "\"><span style=\"color: var(--jp-warn-color2)\">botocore.credentials</span> <span style=\"color: var(--jp-info-color0)\">INFO</span>: Found credentials in shared credentials file: /home/o/omullan/.lsst/aws-credentials.ini</pre>"
      ],
      "text/plain": [
       "<IPython.core.display.HTML object>"
      ]
     },
     "metadata": {},
     "output_type": "display_data"
    }
   ],
   "source": [
    "repo = 'embargo'\n",
    "instrument = 'LSSTCam'\n",
    "datasetType = 'post_isr_image'\n",
    "#datasetType = 'preliminary_visit_image'  # background subtracted calibrated image that detection has run on\n",
    "\n",
    "collections = [\"LSSTCam/runs/nightlyValidation\", \"LSSTCam/defaults\",]\n",
    "\n",
    "butler = Butler(repo, collections=collections, instrument=instrument)\n",
    "\n",
    "registry = butler.registry\n",
    "\n",
    "\n",
    "#uncomment to get the help page\n",
    "#help(registry) "
   ]
  },
  {
   "cell_type": "markdown",
   "id": "f1b0bf5b-14af-471e-a8d6-8a2fa1b3d17a",
   "metadata": {
    "tags": []
   },
   "source": [
    "## Find the exposures\n",
    "\n",
    "BLOCK-T519 is the LSSTCam Local Meridian Observations at 80 deg elevation on day = 20250524\n",
    "\n",
    "BLOCK-T517 — LSSTCam “Sidereal drive off tests” with and without sidereal tracking on day = 20250522\n",
    "\n",
    "May 3 had over 500 science quality images of M49, Prawn, Trifid-Lagoon,  day_obs = 20250503, \n",
    "BLOCK-T365 denotes sciene image taking .\n"
   ]
  },
  {
   "cell_type": "code",
   "execution_count": 16,
   "id": "3005a038-a9fc-485e-bb75-bd78023ce0be",
   "metadata": {
    "execution": {
     "iopub.execute_input": "2025-05-27T14:43:18.113383Z",
     "iopub.status.busy": "2025-05-27T14:43:18.113058Z",
     "iopub.status.idle": "2025-05-27T14:43:18.412817Z",
     "shell.execute_reply": "2025-05-27T14:43:18.412297Z",
     "shell.execute_reply.started": "2025-05-27T14:43:18.113357Z"
    }
   },
   "outputs": [
    {
     "name": "stdout",
     "output_type": "stream",
     "text": [
      "got 30316 images\n"
     ]
    }
   ],
   "source": [
    "\n",
    "day = 20250522\n",
    "day2 = 20250524\n",
    "\n",
    "block = 'BLOCK-T519'  \n",
    "dims = ['exposure']\n",
    "datasetType = 'post_isr_image'\n",
    "\n",
    "result = registry.queryDataIds( datasets=datasetType, dimensions = dims, where = \n",
    "          f\"(day_obs = {day} OR day_obs = {day2})   AND exposure.science_program='{block}' \"\n",
    "\n",
    "                             )\n",
    "meridianresults = [r for r in result]\n",
    "\n",
    "print (f\"got {len(meridianresults)} images\")"
   ]
  },
  {
   "cell_type": "code",
   "execution_count": 18,
   "id": "4c211a24-aa7a-4637-a090-dc998f71cea5",
   "metadata": {
    "execution": {
     "iopub.execute_input": "2025-05-27T14:50:25.165294Z",
     "iopub.status.busy": "2025-05-27T14:50:25.164476Z",
     "iopub.status.idle": "2025-05-27T14:50:25.563311Z",
     "shell.execute_reply": "2025-05-27T14:50:25.562775Z",
     "shell.execute_reply.started": "2025-05-27T14:50:25.165276Z"
    }
   },
   "outputs": [
    {
     "name": "stdout",
     "output_type": "stream",
     "text": [
      "got 30316 images\n"
     ]
    }
   ],
   "source": [
    "\n",
    "day = 20250522\n",
    "block = 'BLOCK-T517'  \n",
    "\n",
    "nonsiderealresult = registry.queryDataIds( datasets=datasetType, dimensions = dims, where = \n",
    "          f\"day_obs = {day}   AND exposure.science_program='{block}' \"\n",
    "\n",
    "                             )\n",
    "nonsiderealresult = [r for r in result]\n",
    "\n",
    "print (f\"got {len(nonsiderealresult)} images\")"
   ]
  },
  {
   "cell_type": "code",
   "execution_count": null,
   "id": "ed7c382e-8962-4799-9597-42127d495a88",
   "metadata": {},
   "outputs": [],
   "source": [
    "\n",
    "day = 20250503\n",
    "block = 'BLOCK-T519'  #  AND exposure.science_program='{block}' - not workgin\n",
    "target = 'M49'  # change to Prawn etc. to get others\n",
    "dims = ['exposure']\n",
    "datasetType = 'post_isr_image'\n",
    "\n",
    "result = registry.queryDataIds( datasets=datasetType, dimensions = dims, where = \n",
    "          f\"day_obs = {day}   AND exposure.target_name='{target}' \"\n",
    "                             )\n",
    "results = [r for r in result]\n",
    "\n",
    "#print(r['exposure']\n",
    "\n",
    "print (f\"got {len(results)} images\")"
   ]
  },
  {
   "cell_type": "markdown",
   "id": "cdbfe194-95be-4a8c-8018-c94a9516a58d",
   "metadata": {},
   "source": [
    "LSSTCam has 202 images per exposure - this will list the exposures. \n",
    "The last digits after the daynumber  match the 'Seq. No.' in RubinTV"
   ]
  },
  {
   "cell_type": "code",
   "execution_count": 19,
   "id": "c221d1df-eee8-4eb3-881a-92533f837ba0",
   "metadata": {
    "execution": {
     "iopub.execute_input": "2025-05-27T14:50:30.542537Z",
     "iopub.status.busy": "2025-05-27T14:50:30.542223Z",
     "iopub.status.idle": "2025-05-27T14:50:30.554545Z",
     "shell.execute_reply": "2025-05-27T14:50:30.553944Z",
     "shell.execute_reply.started": "2025-05-27T14:50:30.542509Z"
    }
   },
   "outputs": [
    {
     "name": "stdout",
     "output_type": "stream",
     "text": [
      "there are 163 exposures\n",
      "[2025052200226, 2025052200236, 2025052200237, 2025052200238, 2025052200239, 2025052200240, 2025052200241, 2025052200242, 2025052200243, 2025052200244, 2025052200245, 2025052200246, 2025052200247, 2025052200248, 2025052200249, 2025052200250, 2025052200251, 2025052200252, 2025052200253, 2025052200254, 2025052200255, 2025052200256, 2025052200257, 2025052200258, 2025052200259, 2025052200260, 2025052200261, 2025052200262, 2025052200263, 2025052200264, 2025052200265, 2025052200266, 2025052200267, 2025052200268, 2025052200269, 2025052200270, 2025052200271, 2025052200272, 2025052200273, 2025052200274, 2025052200275, 2025052200276, 2025052200283, 2025052200284, 2025052200285, 2025052200286, 2025052200287, 2025052200288, 2025052200289, 2025052200290, 2025052200291, 2025052200292, 2025052200293, 2025052200294, 2025052200295, 2025052200296, 2025052200297, 2025052200298, 2025052200299, 2025052200300, 2025052200301, 2025052200302, 2025052200303, 2025052200304, 2025052200305, 2025052200306, 2025052200307, 2025052200308, 2025052200309, 2025052200310, 2025052200311, 2025052200312, 2025052200313, 2025052200314, 2025052200315, 2025052200316, 2025052200317, 2025052200318, 2025052200319, 2025052200320, 2025052200321, 2025052200322, 2025052200335, 2025052200336, 2025052200337, 2025052200338, 2025052200339, 2025052200340, 2025052200341, 2025052200342, 2025052200343, 2025052200344, 2025052200345, 2025052200346, 2025052200347, 2025052200348, 2025052200349, 2025052200350, 2025052200351, 2025052200352, 2025052200353, 2025052200354, 2025052200357, 2025052200370, 2025052200371, 2025052200372, 2025052200373, 2025052200374, 2025052200375, 2025052200376, 2025052200377, 2025052200378, 2025052200379, 2025052200380, 2025052200381, 2025052200382, 2025052200383, 2025052200384, 2025052200385, 2025052200386, 2025052200387, 2025052200388, 2025052200389, 2025052400231, 2025052400232, 2025052400233, 2025052400234, 2025052400235, 2025052400236, 2025052400237, 2025052400238, 2025052400239, 2025052400240, 2025052400241, 2025052400242, 2025052400243, 2025052400244, 2025052400245, 2025052400246, 2025052400247, 2025052400248, 2025052400249, 2025052400250, 2025052400251, 2025052400252, 2025052400253, 2025052400254, 2025052400255, 2025052400256, 2025052400257, 2025052400258, 2025052400259, 2025052400260, 2025052400261, 2025052400262, 2025052400263, 2025052400264, 2025052400265, 2025052400266, 2025052400267, 2025052400268, 2025052400269, 2025052400270]\n"
     ]
    }
   ],
   "source": [
    "exp=\"\"\n",
    "exposures = []\n",
    "for r in nonsiderealresult:\n",
    "   if r['exposure'] != exp:\n",
    "        exp=  r['exposure']\n",
    "        exposures.append(exp)\n",
    "\n",
    "print (f\"there are {len(exposures)} exposures\")\n",
    "print (exposures)\n"
   ]
  },
  {
   "cell_type": "markdown",
   "id": "12458153-0697-42ad-8682-289c715f138c",
   "metadata": {},
   "source": [
    "This is just getting the datasetref for an exposure (this is LSSTcam so that should be 189 images one per detector) unless the corner rafts show up"
   ]
  },
  {
   "cell_type": "code",
   "execution_count": null,
   "id": "d854339f-19da-406c-a02c-29e5961b7445",
   "metadata": {},
   "outputs": [],
   "source": [
    "datasetRefs = registry.queryDatasets(datasetType=datasetType,\n",
    "                                     where=f'exposure = {exposures[100]}')\n"
   ]
  },
  {
   "cell_type": "markdown",
   "id": "5b873a53-98cd-4c04-903e-e08a8b851a25",
   "metadata": {},
   "source": [
    "## Write fits \n",
    "Write out fits files for the first count images. \n",
    "By default you will not have enough space to write all the files."
   ]
  },
  {
   "cell_type": "code",
   "execution_count": null,
   "id": "5bf66e8b-a509-4298-85d2-fff92ca34d4c",
   "metadata": {},
   "outputs": [],
   "source": [
    "images = []\n",
    "count = 0 \n",
    "stop = 2  # just write this many images\n",
    "for count, exp in enumerate(datasetRefs):\n",
    "    fn=f\"Rubin-{exp.dataId['exposure']}-{exp.dataId['detector']}.fits\"\n",
    "    img = butler.get(datasetType,exp.dataId)\n",
    "    img.writeFits(fn)\n",
    "    images.append(exp)\n",
    "    if count >= stop -1:\n",
    "        break\n",
    "    \n",
    "print (f\"{count+1} images output\")"
   ]
  },
  {
   "cell_type": "markdown",
   "id": "177d0a06-dc9d-4b44-8af5-7c14d3e04f9b",
   "metadata": {},
   "source": [
    "Now we have Fits files we can use with external code.\n",
    "We get the list of files we made and process them with SEP (Source Extractor Python) as an example of external code. \n",
    "We will make a list of Objects and store that."
   ]
  },
  {
   "cell_type": "code",
   "execution_count": null,
   "id": "2ad6d14f-5e44-4bec-98fb-81608230c4e9",
   "metadata": {},
   "outputs": [],
   "source": [
    "import glob\n",
    "filelist = glob.glob('Rubin-*.fits')\n",
    "print (filelist)"
   ]
  },
  {
   "cell_type": "markdown",
   "id": "4acdb77a-ffbf-487e-8f59-d73e4d534aa1",
   "metadata": {},
   "source": [
    "## If you want to plot one of these "
   ]
  },
  {
   "cell_type": "code",
   "execution_count": null,
   "id": "a3a6ab8e-658b-4ffd-b765-2924e97773f2",
   "metadata": {},
   "outputs": [],
   "source": [
    "import pylab as plt\n",
    "import lsst.afw.display as afwDisplay\n",
    "\n",
    "afwDisplay.setDefaultBackend('matplotlib')\n",
    "\n",
    "for exp in datasetRefs:\n",
    "    dataId=exp.dataId\n",
    "    img = butler.get('raw', dataId=dataId)\n",
    "\n",
    "    fig = plt.figure()\n",
    "    display = afwDisplay.Display()\n",
    "    display.scale('linear', 'zscale')\n",
    "    display.mtv(img)\n",
    "    plt.show()"
   ]
  }
 ],
 "metadata": {
  "kernelspec": {
   "display_name": "LSST",
   "language": "python",
   "name": "lsst"
  },
  "language_info": {
   "codemirror_mode": {
    "name": "ipython",
    "version": 3
   },
   "file_extension": ".py",
   "mimetype": "text/x-python",
   "name": "python",
   "nbconvert_exporter": "python",
   "pygments_lexer": "ipython3",
   "version": "3.12.10"
  }
 },
 "nbformat": 4,
 "nbformat_minor": 5
}
