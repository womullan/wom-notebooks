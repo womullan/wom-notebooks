{
 "cells": [
  {
   "cell_type": "markdown",
   "id": "5f5acdc9-11e6-4bb7-8900-19031db81d4d",
   "metadata": {},
   "source": [
    "# extract FITS image for LSSTCam   \n",
    "*Note:* RubinTV is an easy way to browse the data https://usdf-rsp.slac.stanford.edu/rubintv/summit-usdf/lsstcam"
   ]
  },
  {
   "cell_type": "code",
   "execution_count": 1,
   "id": "6886f1f9-e461-4cb4-89d3-f1b966cac1b8",
   "metadata": {
    "execution": {
     "iopub.execute_input": "2025-06-10T15:23:57.483576Z",
     "iopub.status.busy": "2025-06-10T15:23:57.483036Z",
     "iopub.status.idle": "2025-06-10T15:24:48.018169Z",
     "shell.execute_reply": "2025-06-10T15:24:48.017650Z",
     "shell.execute_reply.started": "2025-06-10T15:23:57.483552Z"
    }
   },
   "outputs": [],
   "source": [
    "from lsst.daf.butler import Butler\n",
    "import pathlib\n",
    "import numpy as np\n"
   ]
  },
  {
   "cell_type": "code",
   "execution_count": 2,
   "id": "87423a9d-7b52-4ede-bdfc-95a136b33af7",
   "metadata": {
    "execution": {
     "iopub.execute_input": "2025-06-10T15:24:48.019076Z",
     "iopub.status.busy": "2025-06-10T15:24:48.018919Z",
     "iopub.status.idle": "2025-06-10T15:25:15.758437Z",
     "shell.execute_reply": "2025-06-10T15:25:15.757936Z",
     "shell.execute_reply.started": "2025-06-10T15:24:48.019058Z"
    }
   },
   "outputs": [
    {
     "data": {
      "text/html": [
       "<pre style=\"margin: 0.1em;\n",
       "padding-left: 0.25em;\n",
       "border-left-style: solid;\n",
       "font-family: var(--jp-code-font-family);\n",
       "font-size: var(--jp-code-font-size);\n",
       "line-height: var(--jp-code-line-height);\n",
       "\"><span style=\"color: var(--jp-warn-color2)\">botocore.credentials</span> <span style=\"color: var(--jp-info-color0)\">INFO</span>: Found credentials in shared credentials file: /home/o/omullan/.lsst/aws-credentials.ini</pre>"
      ],
      "text/plain": [
       "<IPython.core.display.HTML object>"
      ]
     },
     "metadata": {},
     "output_type": "display_data"
    }
   ],
   "source": [
    "repo = 'embargo'\n",
    "instrument = 'LSSTCam'\n",
    "datasetType = 'post_isr_image'\n",
    "#datasetType = 'preliminary_visit_image'  # background subtracted calibrated image that detection has run on\n",
    "\n",
    "collections = [\"LSSTCam/runs/nightlyValidation\", \"LSSTCam/defaults\",]\n",
    "\n",
    "butler = Butler(repo, collections=collections, instrument=instrument)\n",
    "\n",
    "\n",
    "\n",
    "#uncomment to get the help page\n",
    "#help(Butler) "
   ]
  },
  {
   "cell_type": "markdown",
   "id": "f1b0bf5b-14af-471e-a8d6-8a2fa1b3d17a",
   "metadata": {
    "tags": []
   },
   "source": [
    "## Find the exposures\n",
    "\n",
    "BLOCK-T519 is the LSSTCam Local Meridian Observations at 80 deg elevation on day = 20250524\n",
    "\n",
    "BLOCK-T517 — LSSTCam “Sidereal drive off tests” with and without sidereal tracking on day = 20250522\n",
    "\n",
    "May 22 and 24 had science quality images of M49, Cosmos and dithered star field\n"
   ]
  },
  {
   "cell_type": "code",
   "execution_count": 32,
   "id": "3005a038-a9fc-485e-bb75-bd78023ce0be",
   "metadata": {
    "execution": {
     "iopub.execute_input": "2025-05-27T17:50:11.216688Z",
     "iopub.status.busy": "2025-05-27T17:50:11.216423Z",
     "iopub.status.idle": "2025-05-27T17:50:12.394079Z",
     "shell.execute_reply": "2025-05-27T17:50:12.393528Z",
     "shell.execute_reply.started": "2025-05-27T17:50:11.216673Z"
    }
   },
   "outputs": [
    {
     "name": "stdout",
     "output_type": "stream",
     "text": [
      "got 30316 datsets\n"
     ]
    }
   ],
   "source": [
    "\n",
    "day = 20250522\n",
    "day2 = 20250524\n",
    "\n",
    "block = 'BLOCK-T519'  \n",
    "datasetType = 'post_isr_image'\n",
    "\n",
    "result = butler.query_datasets( datasetType, limit=None, \n",
    "        where = f\"(day_obs = {day} OR day_obs = {day2})   AND exposure.science_program='{block}' \"\n",
    "\n",
    "                             )\n",
    "meridianresults = [r for r in result]\n",
    "\n",
    "print (f\"got {len(meridianresults)} datsets\")\n"
   ]
  },
  {
   "cell_type": "code",
   "execution_count": 36,
   "id": "67012886-bcdf-433b-b7a2-c74182226d25",
   "metadata": {
    "execution": {
     "iopub.execute_input": "2025-05-27T17:56:10.135883Z",
     "iopub.status.busy": "2025-05-27T17:56:10.135572Z",
     "iopub.status.idle": "2025-05-27T17:56:11.990404Z",
     "shell.execute_reply": "2025-05-27T17:56:11.989945Z",
     "shell.execute_reply.started": "2025-05-27T17:56:10.135867Z"
    }
   },
   "outputs": [
    {
     "data": {
      "text/plain": [
       "[ResourcePath(\"file:///home/o/omullan/notebooks/LSSTCam/runs/nightlyValidation/19/post_isr_image/20250522/MC_O_20250522_000237/post_isr_image_LSSTCam_r_57_MC_O_20250522_000237_R01_S00_LSSTCam_runs_nightlyValidation_19.fits\"),\n",
       " ResourcePath(\"file:///home/o/omullan/notebooks/LSSTCam/runs/nightlyValidation/19/post_isr_image/20250522/MC_O_20250522_000238/post_isr_image_LSSTCam_r_57_MC_O_20250522_000238_R01_S00_LSSTCam_runs_nightlyValidation_19.fits\")]"
      ]
     },
     "execution_count": 36,
     "metadata": {},
     "output_type": "execute_result"
    }
   ],
   "source": [
    "#  just wrting out 2 .. \n",
    "path = \"..\"\n",
    "butler.retrieveArtifacts(destination = path, refs=[meridianresults[2],meridianresults[3]])"
   ]
  },
  {
   "cell_type": "code",
   "execution_count": 40,
   "id": "4c211a24-aa7a-4637-a090-dc998f71cea5",
   "metadata": {
    "execution": {
     "iopub.execute_input": "2025-05-27T18:02:35.719890Z",
     "iopub.status.busy": "2025-05-27T18:02:35.719674Z",
     "iopub.status.idle": "2025-05-27T18:02:36.339529Z",
     "shell.execute_reply": "2025-05-27T18:02:36.339010Z",
     "shell.execute_reply.started": "2025-05-27T18:02:35.719875Z"
    }
   },
   "outputs": [
    {
     "name": "stdout",
     "output_type": "stream",
     "text": [
      "got 14880 images\n"
     ]
    }
   ],
   "source": [
    "\n",
    "day = 20250522\n",
    "block = 'BLOCK-T517'  \n",
    "\n",
    "result = butler.query_datasets( datasetType, limit=None,  where = \n",
    "          f\"day_obs = {day}   AND exposure.science_program='{block}' \"\n",
    "\n",
    "                             )\n",
    "nonsiderealresult = [r for r in result]\n",
    "\n",
    "print (f\"got {len(nonsiderealresult)} images\")"
   ]
  },
  {
   "cell_type": "code",
   "execution_count": 41,
   "id": "004a6a62-fadc-4e5c-8328-635c36db3d1a",
   "metadata": {
    "execution": {
     "iopub.execute_input": "2025-05-27T18:02:39.648057Z",
     "iopub.status.busy": "2025-05-27T18:02:39.647700Z",
     "iopub.status.idle": "2025-05-27T18:02:42.227488Z",
     "shell.execute_reply": "2025-05-27T18:02:42.227012Z",
     "shell.execute_reply.started": "2025-05-27T18:02:39.648037Z"
    }
   },
   "outputs": [
    {
     "name": "stdout",
     "output_type": "stream",
     "text": [
      "post_isr_image@{instrument: 'LSSTCam', detector: 0, exposure: 2025052200140, band: 'r', day_obs: 20250522, group: '2025-05-23T00:28:42.492', physical_filter: 'r_57'} [sc=Exposure] (run=LSSTCam/runs/nightlyValidation/19 id=12dba2f8-01db-4679-94d0-2ae43471908e)\n"
     ]
    },
    {
     "data": {
      "text/plain": [
       "[ResourcePath(\"file:///home/o/omullan/notebooks/LSSTCam/runs/nightlyValidation/19/post_isr_image/20250522/MC_O_20250522_000140/post_isr_image_LSSTCam_r_57_MC_O_20250522_000140_R01_S00_LSSTCam_runs_nightlyValidation_19.fits\"),\n",
       " ResourcePath(\"file:///home/o/omullan/notebooks/LSSTCam/runs/nightlyValidation/19/post_isr_image/20250522/MC_O_20250522_000141/post_isr_image_LSSTCam_r_57_MC_O_20250522_000141_R01_S00_LSSTCam_runs_nightlyValidation_19.fits\")]"
      ]
     },
     "execution_count": 41,
     "metadata": {},
     "output_type": "execute_result"
    }
   ],
   "source": [
    "#  just wrting out 2 .. \n",
    "print (nonsiderealresult[2])\n",
    "path = \"..\"\n",
    "butler.retrieveArtifacts(destination = path, refs=[nonsiderealresult[2],nonsiderealresult[3]])"
   ]
  },
  {
   "cell_type": "markdown",
   "id": "f9b9d847-c59f-496e-96ed-3b9ceae8c8b3",
   "metadata": {
    "execution": {
     "iopub.execute_input": "2025-05-29T21:59:54.367071Z",
     "iopub.status.busy": "2025-05-29T21:59:54.366743Z",
     "iopub.status.idle": "2025-05-29T21:59:54.369495Z",
     "shell.execute_reply": "2025-05-29T21:59:54.369127Z",
     "shell.execute_reply.started": "2025-05-29T21:59:54.367054Z"
    }
   },
   "source": [
    "## Exposures where we should have alerts \n",
    "This is also At least 20 images each in r-band and i-band filters taken on the local meridian at various elevations "
   ]
  },
  {
   "cell_type": "code",
   "execution_count": 3,
   "id": "a8bbb5ea-588f-4b95-b2e8-38d5ed7ba31f",
   "metadata": {
    "execution": {
     "iopub.execute_input": "2025-06-10T15:26:41.609966Z",
     "iopub.status.busy": "2025-06-10T15:26:41.609637Z",
     "iopub.status.idle": "2025-06-10T15:26:42.742377Z",
     "shell.execute_reply": "2025-06-10T15:26:42.741878Z",
     "shell.execute_reply.started": "2025-06-10T15:26:41.609940Z"
    }
   },
   "outputs": [
    {
     "name": "stdout",
     "output_type": "stream",
     "text": [
      "[158 159 160 161 162 163 164 165 166 167 138 139 140 141 142 143 144 145\n",
      " 146 147]\n",
      "got 3720 images\n"
     ]
    }
   ],
   "source": [
    "import numpy as np\n",
    "\n",
    "day = 20250522\n",
    "target = 'M49'  \n",
    "seqnums = np.append( np.arange(158,168), np.arange(138,148))\n",
    "print (seqnums) \n",
    "                        \n",
    "result = butler.query_datasets( datasetType, limit=None,  where = \n",
    "    \"day_obs = dayObs AND exposure.target_name = target and exposure.seq_num in (seqnums)\",\n",
    "    bind={\"dayObs\": day, \"target\": target ,\"seqnums\": seqnums.tolist()}\n",
    "                              )\n",
    "results = [r for r in result]\n",
    "\n",
    "print (f\"got {len(results)} images\")"
   ]
  },
  {
   "cell_type": "code",
   "execution_count": 5,
   "id": "724e2a3c-4115-4da3-a8f5-1aad69eb2e56",
   "metadata": {
    "execution": {
     "iopub.execute_input": "2025-05-29T23:47:59.379763Z",
     "iopub.status.busy": "2025-05-29T23:47:59.379397Z",
     "iopub.status.idle": "2025-05-29T23:47:59.891591Z",
     "shell.execute_reply": "2025-05-29T23:47:59.891002Z",
     "shell.execute_reply.started": "2025-05-29T23:47:59.379746Z"
    }
   },
   "outputs": [
    {
     "name": "stdout",
     "output_type": "stream",
     "text": [
      "[185 186 187 188 189 190 191 192 193 194 206 207 208 209 210 211 212 213\n",
      " 214]\n",
      "got 3534 images\n"
     ]
    }
   ],
   "source": [
    "# these are already in BLOCK-517 above  but this is the dithered star field\n",
    "\n",
    "day = 20250522\n",
    "target = ''\n",
    "seqnums = np.append( np.arange(185,195), np.arange(206,215))\n",
    "186\n",
    "print (seqnums) \n",
    "                        \n",
    "result = butler.query_datasets( datasetType, limit=None,  where = \n",
    "    \"day_obs = dayObs AND exposure.seq_num in (seqnums)\",\n",
    "    bind={\"dayObs\": day, \"target\": target ,\"seqnums\": seqnums.tolist()}\n",
    "                              )\n",
    "results = [r for r in result]\n",
    "\n",
    "print (f\"got {len(results)} images\")"
   ]
  },
  {
   "cell_type": "code",
   "execution_count": 24,
   "id": "ed7c382e-8962-4799-9597-42127d495a88",
   "metadata": {
    "execution": {
     "iopub.execute_input": "2025-05-29T22:02:28.515477Z",
     "iopub.status.busy": "2025-05-29T22:02:28.514801Z",
     "iopub.status.idle": "2025-05-29T22:02:28.844378Z",
     "shell.execute_reply": "2025-05-29T22:02:28.843756Z",
     "shell.execute_reply.started": "2025-05-29T22:02:28.515457Z"
    }
   },
   "outputs": [
    {
     "name": "stdout",
     "output_type": "stream",
     "text": [
      "[208 209 210 211 212 213 214 215 216 217 218 219 220 221 222]\n",
      "got 2790 images\n"
     ]
    }
   ],
   "source": [
    "import numpy as np\n",
    "\n",
    "day = 20250524\n",
    "target = 'COSMOS'  \n",
    "seqnums = np.arange(208,223)\n",
    "print (seqnums) \n",
    "                        \n",
    "result = butler.query_datasets( datasetType, limit=None,  where = \n",
    "    \"day_obs = dayObs AND exposure.target_name = target and exposure.seq_num in (seqnums)\",\n",
    "    bind={\"dayObs\": day, \"target\": target ,\"seqnums\": seqnums.tolist()}\n",
    "                              )\n",
    "results = [r for r in result]\n",
    "\n",
    "print (f\"got {len(results)} images\")"
   ]
  },
  {
   "cell_type": "code",
   "execution_count": 19,
   "id": "e73baea7-bbee-4e12-aec8-2c165daac1ff",
   "metadata": {
    "execution": {
     "iopub.execute_input": "2025-05-29T21:42:37.399142Z",
     "iopub.status.busy": "2025-05-29T21:42:37.398789Z",
     "iopub.status.idle": "2025-05-29T21:42:39.043489Z",
     "shell.execute_reply": "2025-05-29T21:42:39.043066Z",
     "shell.execute_reply.started": "2025-05-29T21:42:37.399116Z"
    }
   },
   "outputs": [
    {
     "data": {
      "text/plain": [
       "[ResourcePath(\"file:///home/o/omullan/notebooks/LSSTCam/runs/nightlyValidation/19/post_isr_image/20250522/MC_O_20250522_000140/post_isr_image_LSSTCam_r_57_MC_O_20250522_000140_R01_S00_LSSTCam_runs_nightlyValidation_19.fits\"),\n",
       " ResourcePath(\"file:///home/o/omullan/notebooks/LSSTCam/runs/nightlyValidation/19/post_isr_image/20250522/MC_O_20250522_000141/post_isr_image_LSSTCam_r_57_MC_O_20250522_000141_R01_S00_LSSTCam_runs_nightlyValidation_19.fits\")]"
      ]
     },
     "execution_count": 19,
     "metadata": {},
     "output_type": "execute_result"
    }
   ],
   "source": [
    "#  just wrting out 2 .. \n",
    "path = \"..\"\n",
    "butler.retrieveArtifacts(destination = path, refs=[results[2],results[3]], overwrite=True)"
   ]
  },
  {
   "cell_type": "markdown",
   "id": "b4a13a4c-a97f-40aa-b634-6a7a21ab6eb1",
   "metadata": {},
   "source": [
    "##  Alerts "
   ]
  },
  {
   "cell_type": "markdown",
   "id": "484d5ca8-f2dd-463c-8efa-05df58925146",
   "metadata": {},
   "source": [
    "This needs to be done in a shell\n",
    "# create a profile to store access credentials \n",
    "singularity exec /sdf/sw/s3/aws-cli_latest.sif aws configure --profile alert-archive\n",
    "    this requires entering AWS credentials to the appropriate bucket, which can be retrieved with\n",
    "module load vault\n",
    "# uses SLAC windows credentials\n",
    "vault login -method=ldap  \n",
    "vault kv get secret/rubin/usdf-alert-stream-broker-dev/alert-stream-broker\n",
    "\n",
    "alias s3=\"singularity exec /sdf/sw/s3/aws-cli_latest.sif aws --endpoint-url https://sdfembs3.sdf.slac.stanford.edu s3\"\n",
    "\n",
    "# list the avro files:  \"allowed\" would be issued as alerts, \"redacted\" are removed by comparison to the SpaceTrack catalogs; e.g., 2025052200166_153_allowed.avro is visit 2025052200166, detector 153.\n",
    "s3 --profile alert-archive ls s3://alert-archive/sample_alerts_240610/\n",
    "\n",
    "# retrieve the avro files to a local directory\n",
    "s3 --profile alert-archive cp s3://alert-archive/sample_alerts_240610/ . --recursive"
   ]
  },
  {
   "cell_type": "markdown",
   "id": "4acdb77a-ffbf-487e-8f59-d73e4d534aa1",
   "metadata": {},
   "source": [
    "## If you want to plot one of these "
   ]
  },
  {
   "cell_type": "code",
   "execution_count": null,
   "id": "a3a6ab8e-658b-4ffd-b765-2924e97773f2",
   "metadata": {},
   "outputs": [],
   "source": [
    "import pylab as plt\n",
    "import lsst.afw.display as afwDisplay\n",
    "\n",
    "afwDisplay.setDefaultBackend('matplotlib')\n",
    "\n",
    "r = results[2]\n",
    "\n",
    "print (r)\n",
    "\n",
    "img = calexp = butler.get(r)\n",
    "\n",
    "fig = plt.figure()\n",
    "display = afwDisplay.Display()\n",
    "display.scale('linear', 'zscale')\n",
    "display.mtv(img)\n",
    "plt.show()"
   ]
  },
  {
   "cell_type": "markdown",
   "id": "177d0a06-dc9d-4b44-8af5-7c14d3e04f9b",
   "metadata": {},
   "source": [
    "# Files\n",
    "Now we have Fits files we can use with external code.\n",
    "We get the list of files we made and process them with SEP (Source Extractor Python) as an example of external code. \n",
    "We will make a list of Objects and store that."
   ]
  },
  {
   "cell_type": "code",
   "execution_count": 22,
   "id": "2ad6d14f-5e44-4bec-98fb-81608230c4e9",
   "metadata": {
    "execution": {
     "iopub.execute_input": "2025-05-29T21:44:59.668778Z",
     "iopub.status.busy": "2025-05-29T21:44:59.668412Z",
     "iopub.status.idle": "2025-05-29T21:44:59.679809Z",
     "shell.execute_reply": "2025-05-29T21:44:59.679370Z",
     "shell.execute_reply.started": "2025-05-29T21:44:59.668759Z"
    }
   },
   "outputs": [
    {
     "name": "stdout",
     "output_type": "stream",
     "text": [
      "['../LSSTCam/runs/nightlyValidation/19/post_isr_image/20250522/MC_O_20250522_000141/post_isr_image_LSSTCam_r_57_MC_O_20250522_000141_R01_S00_LSSTCam_runs_nightlyValidation_19.fits', '../LSSTCam/runs/nightlyValidation/19/post_isr_image/20250522/MC_O_20250522_000237/post_isr_image_LSSTCam_r_57_MC_O_20250522_000237_R01_S00_LSSTCam_runs_nightlyValidation_19.fits', '../LSSTCam/runs/nightlyValidation/19/post_isr_image/20250522/MC_O_20250522_000140/post_isr_image_LSSTCam_r_57_MC_O_20250522_000140_R01_S00_LSSTCam_runs_nightlyValidation_19.fits', '../LSSTCam/runs/nightlyValidation/19/post_isr_image/20250522/MC_O_20250522_000238/post_isr_image_LSSTCam_r_57_MC_O_20250522_000238_R01_S00_LSSTCam_runs_nightlyValidation_19.fits']\n"
     ]
    }
   ],
   "source": [
    "import glob\n",
    "filelist = glob.glob('../LSSTCam/*/*/*/*/*/*/*.fits')\n",
    "print (filelist)"
   ]
  },
  {
   "cell_type": "code",
   "execution_count": null,
   "id": "8a08c97a-63fe-4cca-9590-844fd7ff46ee",
   "metadata": {},
   "outputs": [],
   "source": []
  }
 ],
 "metadata": {
  "kernelspec": {
   "display_name": "LSST",
   "language": "python",
   "name": "lsst"
  },
  "language_info": {
   "codemirror_mode": {
    "name": "ipython",
    "version": 3
   },
   "file_extension": ".py",
   "mimetype": "text/x-python",
   "name": "python",
   "nbconvert_exporter": "python",
   "pygments_lexer": "ipython3",
   "version": "3.12.11"
  }
 },
 "nbformat": 4,
 "nbformat_minor": 5
}
