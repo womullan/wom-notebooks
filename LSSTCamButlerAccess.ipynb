{
 "cells": [
  {
   "cell_type": "markdown",
   "id": "5f5acdc9-11e6-4bb7-8900-19031db81d4d",
   "metadata": {},
   "source": [
    "# extract FITS image for LSSTCam   "
   ]
  },
  {
   "cell_type": "code",
   "execution_count": 34,
   "id": "6886f1f9-e461-4cb4-89d3-f1b966cac1b8",
   "metadata": {
    "execution": {
     "iopub.execute_input": "2025-05-27T17:53:38.713714Z",
     "iopub.status.busy": "2025-05-27T17:53:38.712858Z",
     "iopub.status.idle": "2025-05-27T17:53:38.715852Z",
     "shell.execute_reply": "2025-05-27T17:53:38.715458Z",
     "shell.execute_reply.started": "2025-05-27T17:53:38.713696Z"
    }
   },
   "outputs": [],
   "source": [
    "from lsst.daf.butler import Butler\n",
    "import pathlib\n"
   ]
  },
  {
   "cell_type": "code",
   "execution_count": 31,
   "id": "87423a9d-7b52-4ede-bdfc-95a136b33af7",
   "metadata": {
    "execution": {
     "iopub.execute_input": "2025-05-27T17:49:39.073743Z",
     "iopub.status.busy": "2025-05-27T17:49:39.073030Z",
     "iopub.status.idle": "2025-05-27T17:49:39.396104Z",
     "shell.execute_reply": "2025-05-27T17:49:39.395653Z",
     "shell.execute_reply.started": "2025-05-27T17:49:39.073725Z"
    }
   },
   "outputs": [],
   "source": [
    "repo = 'embargo'\n",
    "instrument = 'LSSTCam'\n",
    "datasetType = 'post_isr_image'\n",
    "#datasetType = 'preliminary_visit_image'  # background subtracted calibrated image that detection has run on\n",
    "\n",
    "collections = [\"LSSTCam/runs/nightlyValidation\", \"LSSTCam/defaults\",]\n",
    "\n",
    "butler = Butler(repo, collections=collections, instrument=instrument)\n",
    "\n",
    "\n",
    "\n",
    "#uncomment to get the help page\n",
    "#help(Butler) "
   ]
  },
  {
   "cell_type": "markdown",
   "id": "f1b0bf5b-14af-471e-a8d6-8a2fa1b3d17a",
   "metadata": {
    "tags": []
   },
   "source": [
    "## Find the exposures\n",
    "\n",
    "BLOCK-T519 is the LSSTCam Local Meridian Observations at 80 deg elevation on day = 20250524\n",
    "\n",
    "BLOCK-T517 — LSSTCam “Sidereal drive off tests” with and without sidereal tracking on day = 20250522\n",
    "\n",
    "May 3 had over 500 science quality images of M49, Prawn, Trifid-Lagoon,  day_obs = 20250503, \n",
    "BLOCK-T365 denotes sciene image taking .\n"
   ]
  },
  {
   "cell_type": "code",
   "execution_count": 32,
   "id": "3005a038-a9fc-485e-bb75-bd78023ce0be",
   "metadata": {
    "execution": {
     "iopub.execute_input": "2025-05-27T17:50:11.216688Z",
     "iopub.status.busy": "2025-05-27T17:50:11.216423Z",
     "iopub.status.idle": "2025-05-27T17:50:12.394079Z",
     "shell.execute_reply": "2025-05-27T17:50:12.393528Z",
     "shell.execute_reply.started": "2025-05-27T17:50:11.216673Z"
    }
   },
   "outputs": [
    {
     "name": "stdout",
     "output_type": "stream",
     "text": [
      "got 30316 datsets\n"
     ]
    }
   ],
   "source": [
    "\n",
    "day = 20250522\n",
    "day2 = 20250524\n",
    "\n",
    "block = 'BLOCK-T519'  \n",
    "datasetType = 'post_isr_image'\n",
    "\n",
    "result = butler.query_datasets( datasetType, limit=None, \n",
    "        where = f\"(day_obs = {day} OR day_obs = {day2})   AND exposure.science_program='{block}' \"\n",
    "\n",
    "                             )\n",
    "meridianresults = [r for r in result]\n",
    "\n",
    "print (f\"got {len(meridianresults)} datsets\")\n"
   ]
  },
  {
   "cell_type": "code",
   "execution_count": 36,
   "id": "67012886-bcdf-433b-b7a2-c74182226d25",
   "metadata": {
    "execution": {
     "iopub.execute_input": "2025-05-27T17:56:10.135883Z",
     "iopub.status.busy": "2025-05-27T17:56:10.135572Z",
     "iopub.status.idle": "2025-05-27T17:56:11.990404Z",
     "shell.execute_reply": "2025-05-27T17:56:11.989945Z",
     "shell.execute_reply.started": "2025-05-27T17:56:10.135867Z"
    }
   },
   "outputs": [
    {
     "data": {
      "text/plain": [
       "[ResourcePath(\"file:///home/o/omullan/notebooks/LSSTCam/runs/nightlyValidation/19/post_isr_image/20250522/MC_O_20250522_000237/post_isr_image_LSSTCam_r_57_MC_O_20250522_000237_R01_S00_LSSTCam_runs_nightlyValidation_19.fits\"),\n",
       " ResourcePath(\"file:///home/o/omullan/notebooks/LSSTCam/runs/nightlyValidation/19/post_isr_image/20250522/MC_O_20250522_000238/post_isr_image_LSSTCam_r_57_MC_O_20250522_000238_R01_S00_LSSTCam_runs_nightlyValidation_19.fits\")]"
      ]
     },
     "execution_count": 36,
     "metadata": {},
     "output_type": "execute_result"
    }
   ],
   "source": [
    "#  just wrting out 2 .. \n",
    "path = \"..\"\n",
    "butler.retrieveArtifacts(destination = path, refs=[meridianresults[2],meridianresults[3]])"
   ]
  },
  {
   "cell_type": "code",
   "execution_count": 40,
   "id": "4c211a24-aa7a-4637-a090-dc998f71cea5",
   "metadata": {
    "execution": {
     "iopub.execute_input": "2025-05-27T18:02:35.719890Z",
     "iopub.status.busy": "2025-05-27T18:02:35.719674Z",
     "iopub.status.idle": "2025-05-27T18:02:36.339529Z",
     "shell.execute_reply": "2025-05-27T18:02:36.339010Z",
     "shell.execute_reply.started": "2025-05-27T18:02:35.719875Z"
    }
   },
   "outputs": [
    {
     "name": "stdout",
     "output_type": "stream",
     "text": [
      "got 14880 images\n"
     ]
    }
   ],
   "source": [
    "\n",
    "day = 20250522\n",
    "block = 'BLOCK-T517'  \n",
    "\n",
    "result = butler.query_datasets( datasetType, limit=None,  where = \n",
    "          f\"day_obs = {day}   AND exposure.science_program='{block}' \"\n",
    "\n",
    "                             )\n",
    "nonsiderealresult = [r for r in result]\n",
    "\n",
    "print (f\"got {len(nonsiderealresult)} images\")"
   ]
  },
  {
   "cell_type": "code",
   "execution_count": 41,
   "id": "004a6a62-fadc-4e5c-8328-635c36db3d1a",
   "metadata": {
    "execution": {
     "iopub.execute_input": "2025-05-27T18:02:39.648057Z",
     "iopub.status.busy": "2025-05-27T18:02:39.647700Z",
     "iopub.status.idle": "2025-05-27T18:02:42.227488Z",
     "shell.execute_reply": "2025-05-27T18:02:42.227012Z",
     "shell.execute_reply.started": "2025-05-27T18:02:39.648037Z"
    }
   },
   "outputs": [
    {
     "name": "stdout",
     "output_type": "stream",
     "text": [
      "post_isr_image@{instrument: 'LSSTCam', detector: 0, exposure: 2025052200140, band: 'r', day_obs: 20250522, group: '2025-05-23T00:28:42.492', physical_filter: 'r_57'} [sc=Exposure] (run=LSSTCam/runs/nightlyValidation/19 id=12dba2f8-01db-4679-94d0-2ae43471908e)\n"
     ]
    },
    {
     "data": {
      "text/plain": [
       "[ResourcePath(\"file:///home/o/omullan/notebooks/LSSTCam/runs/nightlyValidation/19/post_isr_image/20250522/MC_O_20250522_000140/post_isr_image_LSSTCam_r_57_MC_O_20250522_000140_R01_S00_LSSTCam_runs_nightlyValidation_19.fits\"),\n",
       " ResourcePath(\"file:///home/o/omullan/notebooks/LSSTCam/runs/nightlyValidation/19/post_isr_image/20250522/MC_O_20250522_000141/post_isr_image_LSSTCam_r_57_MC_O_20250522_000141_R01_S00_LSSTCam_runs_nightlyValidation_19.fits\")]"
      ]
     },
     "execution_count": 41,
     "metadata": {},
     "output_type": "execute_result"
    }
   ],
   "source": [
    "#  just wrting out 2 .. \n",
    "print (nonsiderealresult[2])\n",
    "path = \"..\"\n",
    "butler.retrieveArtifacts(destination = path, refs=[nonsiderealresult[2],nonsiderealresult[3]])"
   ]
  },
  {
   "cell_type": "code",
   "execution_count": 49,
   "id": "ed7c382e-8962-4799-9597-42127d495a88",
   "metadata": {
    "execution": {
     "iopub.execute_input": "2025-05-27T18:26:06.565688Z",
     "iopub.status.busy": "2025-05-27T18:26:06.565364Z",
     "iopub.status.idle": "2025-05-27T18:26:10.238288Z",
     "shell.execute_reply": "2025-05-27T18:26:10.237902Z",
     "shell.execute_reply.started": "2025-05-27T18:26:06.565661Z"
    }
   },
   "outputs": [
    {
     "name": "stdout",
     "output_type": "stream",
     "text": [
      "got 14880 images\n"
     ]
    }
   ],
   "source": [
    "\n",
    "day = 20250503\n",
    "target = 'M49'  # change to Prawn etc. to get others\n",
    "\n",
    "reult = butler.query_datasets( datasetType, limit=None,  where = \n",
    "            f\"day_obs = {day} AND exposure.target_name='{target}'  \"\n",
    "                             )\n",
    "results = [r for r in result]\n",
    "\n",
    "print (f\"got {len(results)} images\")"
   ]
  },
  {
   "cell_type": "code",
   "execution_count": 50,
   "id": "e73baea7-bbee-4e12-aec8-2c165daac1ff",
   "metadata": {
    "execution": {
     "iopub.execute_input": "2025-05-27T18:26:13.868624Z",
     "iopub.status.busy": "2025-05-27T18:26:13.867821Z",
     "iopub.status.idle": "2025-05-27T18:26:13.881150Z",
     "shell.execute_reply": "2025-05-27T18:26:13.880580Z",
     "shell.execute_reply.started": "2025-05-27T18:26:13.868593Z"
    }
   },
   "outputs": [
    {
     "name": "stderr",
     "output_type": "stream",
     "text": [
      "  + Exception Group Traceback (most recent call last):\n",
      "  |   File \"/opt/lsst/software/stack/conda/envs/lsst-scipipe-10.0.0/share/eups/Linux64/daf_butler/g7096c7a84b+2e8246025c/python/lsst/daf/butler/datastores/fileDatastore.py\", line 2165, in retrieveArtifacts\n",
      "  |     ResourcePath.mtransfer(transfer, tuple(to_transfer.items()), overwrite=overwrite)\n",
      "  |   File \"/opt/lsst/software/stack/conda/envs/lsst-scipipe-10.0.0/share/eups/Linux64/resources/g4a157353b6+d65b3c2b70/python/lsst/resources/_resourcePath.py\", line 1004, in mtransfer\n",
      "  |     raise ExceptionGroup(\n",
      "  | ExceptionGroup: Errors transferring 2 artifacts (2 sub-exceptions)\n",
      "  +-+---------------- 1 ----------------\n",
      "    | Traceback (most recent call last):\n",
      "    |   File \"/opt/lsst/software/stack/conda/envs/lsst-scipipe-10.0.0/share/eups/Linux64/resources/g4a157353b6+d65b3c2b70/python/lsst/resources/_resourcePath.py\", line 995, in mtransfer\n",
      "    |     future.result()\n",
      "    |   File \"/opt/lsst/software/stack/conda/envs/lsst-scipipe-10.0.0/lib/python3.12/concurrent/futures/_base.py\", line 449, in result\n",
      "    |     return self.__get_result()\n",
      "    |            ^^^^^^^^^^^^^^^^^^^\n",
      "    |   File \"/opt/lsst/software/stack/conda/envs/lsst-scipipe-10.0.0/lib/python3.12/concurrent/futures/_base.py\", line 401, in __get_result\n",
      "    |     raise self._exception\n",
      "    |   File \"/opt/lsst/software/stack/conda/envs/lsst-scipipe-10.0.0/lib/python3.12/concurrent/futures/thread.py\", line 59, in run\n",
      "    |     result = self.fn(*self.args, **self.kwargs)\n",
      "    |              ^^^^^^^^^^^^^^^^^^^^^^^^^^^^^^^^^^\n",
      "    |   File \"/opt/lsst/software/stack/conda/envs/lsst-scipipe-10.0.0/share/eups/Linux64/resources/g4a157353b6+d65b3c2b70/python/lsst/resources/file.py\", line 215, in transfer_from\n",
      "    |     raise FileExistsError(\n",
      "    | FileExistsError: Destination path 'file:///home/o/omullan/notebooks/LSSTCam/runs/nightlyValidation/19/post_isr_image/20250522/MC_O_20250522_000140/post_isr_image_LSSTCam_r_57_MC_O_20250522_000140_R01_S00_LSSTCam_runs_nightlyValidation_19.fits' already exists. Transfer from s3://embargo@rubin-summit-hdd/LSSTCam/runs/nightlyValidation/19/post_isr_image/20250522/MC_O_20250522_000140/post_isr_image_LSSTCam_r_57_MC_O_20250522_000140_R01_S00_LSSTCam_runs_nightlyValidation_19.fits cannot be completed.\n",
      "    +---------------- 2 ----------------\n",
      "    | Traceback (most recent call last):\n",
      "    |   File \"/opt/lsst/software/stack/conda/envs/lsst-scipipe-10.0.0/share/eups/Linux64/resources/g4a157353b6+d65b3c2b70/python/lsst/resources/_resourcePath.py\", line 995, in mtransfer\n",
      "    |     future.result()\n",
      "    |   File \"/opt/lsst/software/stack/conda/envs/lsst-scipipe-10.0.0/lib/python3.12/concurrent/futures/_base.py\", line 449, in result\n",
      "    |     return self.__get_result()\n",
      "    |            ^^^^^^^^^^^^^^^^^^^\n",
      "    |   File \"/opt/lsst/software/stack/conda/envs/lsst-scipipe-10.0.0/lib/python3.12/concurrent/futures/_base.py\", line 401, in __get_result\n",
      "    |     raise self._exception\n",
      "    |   File \"/opt/lsst/software/stack/conda/envs/lsst-scipipe-10.0.0/lib/python3.12/concurrent/futures/thread.py\", line 59, in run\n",
      "    |     result = self.fn(*self.args, **self.kwargs)\n",
      "    |              ^^^^^^^^^^^^^^^^^^^^^^^^^^^^^^^^^^\n",
      "    |   File \"/opt/lsst/software/stack/conda/envs/lsst-scipipe-10.0.0/share/eups/Linux64/resources/g4a157353b6+d65b3c2b70/python/lsst/resources/file.py\", line 215, in transfer_from\n",
      "    |     raise FileExistsError(\n",
      "    | FileExistsError: Destination path 'file:///home/o/omullan/notebooks/LSSTCam/runs/nightlyValidation/19/post_isr_image/20250522/MC_O_20250522_000141/post_isr_image_LSSTCam_r_57_MC_O_20250522_000141_R01_S00_LSSTCam_runs_nightlyValidation_19.fits' already exists. Transfer from s3://embargo@rubin-summit-hdd/LSSTCam/runs/nightlyValidation/19/post_isr_image/20250522/MC_O_20250522_000141/post_isr_image_LSSTCam_r_57_MC_O_20250522_000141_R01_S00_LSSTCam_runs_nightlyValidation_19.fits cannot be completed.\n",
      "    +------------------------------------\n",
      "\n",
      "The above exception was the direct cause of the following exception:\n",
      "\n",
      "Traceback (most recent call last):\n",
      "  File \"/opt/lsst/software/stack/conda/envs/lsst-scipipe-10.0.0/lib/python3.12/site-packages/IPython/core/interactiveshell.py\", line 3579, in run_code\n",
      "    exec(code_obj, self.user_global_ns, self.user_ns)\n",
      "  File \"/tmp/ipykernel_1679/3387059445.py\", line 3, in <module>\n",
      "    butler.retrieveArtifacts(destination = path, refs=[results[2],results[3]])\n",
      "  File \"/opt/lsst/software/stack/conda/envs/lsst-scipipe-10.0.0/share/eups/Linux64/daf_butler/g7096c7a84b+2e8246025c/python/lsst/daf/butler/direct_butler/_direct_butler.py\", line 1320, in retrieveArtifacts\n",
      "    artifact_map = self._datastore.retrieveArtifacts(\n",
      "                   ^^^^^^^^^^^^^^^^^^^^^^^^^^^^^^^^^^\n",
      "  File \"/opt/lsst/software/stack/conda/envs/lsst-scipipe-10.0.0/share/eups/Linux64/daf_butler/g7096c7a84b+2e8246025c/python/lsst/daf/butler/datastores/chainedDatastore.py\", line 898, in retrieveArtifacts\n",
      "    artifact_map = self.datastores[number].retrieveArtifacts(\n",
      "                   ^^^^^^^^^^^^^^^^^^^^^^^^^^^^^^^^^^^^^^^^^^\n",
      "  File \"/opt/lsst/software/stack/conda/envs/lsst-scipipe-10.0.0/share/eups/Linux64/daf_butler/g7096c7a84b+2e8246025c/python/lsst/daf/butler/datastores/fileDatastore.py\", line 2167, in retrieveArtifacts\n",
      "    raise FileExistsError(\n",
      "FileExistsError: Some files already exist in destination directory and overwrite is False\n"
     ]
    }
   ],
   "source": [
    "#  just wrting out 2 .. \n",
    "path = \"..\"\n",
    "butler.retrieveArtifacts(destination = path, refs=[results[2],results[3]])"
   ]
  },
  {
   "cell_type": "markdown",
   "id": "cdbfe194-95be-4a8c-8018-c94a9516a58d",
   "metadata": {},
   "source": [
    "LSSTCam has 202 images per exposure - this will list the exposures. \n",
    "The last digits after the daynumber  match the 'Seq. No.' in RubinTV"
   ]
  },
  {
   "cell_type": "code",
   "execution_count": 19,
   "id": "c221d1df-eee8-4eb3-881a-92533f837ba0",
   "metadata": {
    "execution": {
     "iopub.execute_input": "2025-05-27T14:50:30.542537Z",
     "iopub.status.busy": "2025-05-27T14:50:30.542223Z",
     "iopub.status.idle": "2025-05-27T14:50:30.554545Z",
     "shell.execute_reply": "2025-05-27T14:50:30.553944Z",
     "shell.execute_reply.started": "2025-05-27T14:50:30.542509Z"
    }
   },
   "outputs": [
    {
     "name": "stdout",
     "output_type": "stream",
     "text": [
      "there are 163 exposures\n",
      "[2025052200226, 2025052200236, 2025052200237, 2025052200238, 2025052200239, 2025052200240, 2025052200241, 2025052200242, 2025052200243, 2025052200244, 2025052200245, 2025052200246, 2025052200247, 2025052200248, 2025052200249, 2025052200250, 2025052200251, 2025052200252, 2025052200253, 2025052200254, 2025052200255, 2025052200256, 2025052200257, 2025052200258, 2025052200259, 2025052200260, 2025052200261, 2025052200262, 2025052200263, 2025052200264, 2025052200265, 2025052200266, 2025052200267, 2025052200268, 2025052200269, 2025052200270, 2025052200271, 2025052200272, 2025052200273, 2025052200274, 2025052200275, 2025052200276, 2025052200283, 2025052200284, 2025052200285, 2025052200286, 2025052200287, 2025052200288, 2025052200289, 2025052200290, 2025052200291, 2025052200292, 2025052200293, 2025052200294, 2025052200295, 2025052200296, 2025052200297, 2025052200298, 2025052200299, 2025052200300, 2025052200301, 2025052200302, 2025052200303, 2025052200304, 2025052200305, 2025052200306, 2025052200307, 2025052200308, 2025052200309, 2025052200310, 2025052200311, 2025052200312, 2025052200313, 2025052200314, 2025052200315, 2025052200316, 2025052200317, 2025052200318, 2025052200319, 2025052200320, 2025052200321, 2025052200322, 2025052200335, 2025052200336, 2025052200337, 2025052200338, 2025052200339, 2025052200340, 2025052200341, 2025052200342, 2025052200343, 2025052200344, 2025052200345, 2025052200346, 2025052200347, 2025052200348, 2025052200349, 2025052200350, 2025052200351, 2025052200352, 2025052200353, 2025052200354, 2025052200357, 2025052200370, 2025052200371, 2025052200372, 2025052200373, 2025052200374, 2025052200375, 2025052200376, 2025052200377, 2025052200378, 2025052200379, 2025052200380, 2025052200381, 2025052200382, 2025052200383, 2025052200384, 2025052200385, 2025052200386, 2025052200387, 2025052200388, 2025052200389, 2025052400231, 2025052400232, 2025052400233, 2025052400234, 2025052400235, 2025052400236, 2025052400237, 2025052400238, 2025052400239, 2025052400240, 2025052400241, 2025052400242, 2025052400243, 2025052400244, 2025052400245, 2025052400246, 2025052400247, 2025052400248, 2025052400249, 2025052400250, 2025052400251, 2025052400252, 2025052400253, 2025052400254, 2025052400255, 2025052400256, 2025052400257, 2025052400258, 2025052400259, 2025052400260, 2025052400261, 2025052400262, 2025052400263, 2025052400264, 2025052400265, 2025052400266, 2025052400267, 2025052400268, 2025052400269, 2025052400270]\n"
     ]
    }
   ],
   "source": [
    "exp=\"\"\n",
    "exposures = []\n",
    "for r in nonsiderealresult:\n",
    "   if r['exposure'] != exp:\n",
    "        exp=  r['exposure']\n",
    "        exposures.append(exp)\n",
    "\n",
    "print (f\"there are {len(exposures)} exposures\")\n",
    "print (exposures)\n"
   ]
  },
  {
   "cell_type": "markdown",
   "id": "12458153-0697-42ad-8682-289c715f138c",
   "metadata": {},
   "source": [
    "This is just getting the datasetref for an exposure (this is LSSTcam so that should be 189 images one per detector) unless the corner rafts show up"
   ]
  },
  {
   "cell_type": "code",
   "execution_count": null,
   "id": "d854339f-19da-406c-a02c-29e5961b7445",
   "metadata": {},
   "outputs": [],
   "source": [
    "datasetRefs = registry.queryDatasets(datasetType=datasetType,\n",
    "                                     where=f'exposure = {exposures[100]}')\n"
   ]
  },
  {
   "cell_type": "markdown",
   "id": "5b873a53-98cd-4c04-903e-e08a8b851a25",
   "metadata": {},
   "source": [
    "## Write fits \n",
    "Write out fits files for the first count images. \n",
    "By default you will not have enough space to write all the files."
   ]
  },
  {
   "cell_type": "code",
   "execution_count": null,
   "id": "5bf66e8b-a509-4298-85d2-fff92ca34d4c",
   "metadata": {},
   "outputs": [],
   "source": [
    "images = []\n",
    "count = 0 \n",
    "stop = 2  # just write this many images\n",
    "for count, exp in enumerate(datasetRefs):\n",
    "    fn=f\"Rubin-{exp.dataId['exposure']}-{exp.dataId['detector']}.fits\"\n",
    "    img = butler.get(datasetType,exp.dataId)\n",
    "    img.writeFits(fn)\n",
    "    images.append(exp)\n",
    "    if count >= stop -1:\n",
    "        break\n",
    "    \n",
    "print (f\"{count+1} images output\")"
   ]
  },
  {
   "cell_type": "markdown",
   "id": "177d0a06-dc9d-4b44-8af5-7c14d3e04f9b",
   "metadata": {},
   "source": [
    "Now we have Fits files we can use with external code.\n",
    "We get the list of files we made and process them with SEP (Source Extractor Python) as an example of external code. \n",
    "We will make a list of Objects and store that."
   ]
  },
  {
   "cell_type": "code",
   "execution_count": null,
   "id": "2ad6d14f-5e44-4bec-98fb-81608230c4e9",
   "metadata": {},
   "outputs": [],
   "source": [
    "import glob\n",
    "filelist = glob.glob('Rubin-*.fits')\n",
    "print (filelist)"
   ]
  },
  {
   "cell_type": "markdown",
   "id": "4acdb77a-ffbf-487e-8f59-d73e4d534aa1",
   "metadata": {},
   "source": [
    "## If you want to plot one of these "
   ]
  },
  {
   "cell_type": "code",
   "execution_count": null,
   "id": "a3a6ab8e-658b-4ffd-b765-2924e97773f2",
   "metadata": {},
   "outputs": [],
   "source": [
    "import pylab as plt\n",
    "import lsst.afw.display as afwDisplay\n",
    "\n",
    "afwDisplay.setDefaultBackend('matplotlib')\n",
    "\n",
    "for exp in datasetRefs:\n",
    "    dataId=exp.dataId\n",
    "    img = butler.get('raw', dataId=dataId)\n",
    "\n",
    "    fig = plt.figure()\n",
    "    display = afwDisplay.Display()\n",
    "    display.scale('linear', 'zscale')\n",
    "    display.mtv(img)\n",
    "    plt.show()"
   ]
  }
 ],
 "metadata": {
  "kernelspec": {
   "display_name": "LSST",
   "language": "python",
   "name": "lsst"
  },
  "language_info": {
   "codemirror_mode": {
    "name": "ipython",
    "version": 3
   },
   "file_extension": ".py",
   "mimetype": "text/x-python",
   "name": "python",
   "nbconvert_exporter": "python",
   "pygments_lexer": "ipython3",
   "version": "3.12.10"
  }
 },
 "nbformat": 4,
 "nbformat_minor": 5
}
