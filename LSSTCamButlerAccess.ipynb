{
 "cells": [
  {
   "cell_type": "markdown",
   "id": "5f5acdc9-11e6-4bb7-8900-19031db81d4d",
   "metadata": {},
   "source": [
    "# extract FITS image for LSSTCam   "
   ]
  },
  {
   "cell_type": "code",
   "execution_count": null,
   "id": "6886f1f9-e461-4cb4-89d3-f1b966cac1b8",
   "metadata": {},
   "outputs": [],
   "source": [
    "from lsst.daf.butler import Butler\n",
    "from lsst.daf.butler.registry import Registry\n"
   ]
  },
  {
   "cell_type": "code",
   "execution_count": null,
   "id": "87423a9d-7b52-4ede-bdfc-95a136b33af7",
   "metadata": {},
   "outputs": [],
   "source": [
    "repo = 'embargo'\n",
    "instrument = 'LSSTCam'\n",
    "datasetType = 'post_isr_image'\n",
    "#datasetType = 'preliminary_visit_image'  # background subtracted calibrated image that detection has run on\n",
    "\n",
    "collections = [\"LSSTCam/runs/nightlyValidation\", \"LSSTCam/defaults\",]\n",
    "\n",
    "butler = Butler(repo, collections=collections, instrument=instrument)\n",
    "\n",
    "registry = butler.registry\n",
    "\n",
    "#uncomment to get the help page\n",
    "#help(registry) "
   ]
  },
  {
   "cell_type": "markdown",
   "id": "f1b0bf5b-14af-471e-a8d6-8a2fa1b3d17a",
   "metadata": {
    "tags": []
   },
   "source": [
    "## Find the exposures\n",
    "Listing the images could be done with butler using one of the tutorial queries.\n",
    "May 3 had over 500 science quality images of M49, Prawn, Trifid-Lagoon,  day_obs = 20250503, \n",
    "BLOCK-T365 denotes sciene image taking .\n"
   ]
  },
  {
   "cell_type": "code",
   "execution_count": null,
   "id": "3005a038-a9fc-485e-bb75-bd78023ce0be",
   "metadata": {},
   "outputs": [],
   "source": [
    "\n",
    "day = 20250503\n",
    "block = 'BLOCK-T365'  #  AND exposure.science_program='{block}' - not workgin\n",
    "target = 'M49'  # change to Prawn etc. to get others\n",
    "dims = ['exposure']\n",
    "datasetType = 'post_isr_image'\n",
    "\n",
    "result = registry.queryDataIds( datasets=datasetType, dimensions = dims, where = \n",
    "          f\"day_obs = {day}   AND exposure.target_name='{target}' \"\n",
    "                             )\n",
    "results = [r for r in result]\n",
    "\n",
    "#print(r['exposure']\n",
    "\n",
    "print (f\"got {len(results)} images\")"
   ]
  },
  {
   "cell_type": "markdown",
   "id": "cdbfe194-95be-4a8c-8018-c94a9516a58d",
   "metadata": {},
   "source": [
    "LSSTCam has 202 images per exposure - this will list the exposures. \n",
    "The last digits after the daynumber  match the 'Seq. No.' in RubinTV"
   ]
  },
  {
   "cell_type": "code",
   "execution_count": null,
   "id": "c221d1df-eee8-4eb3-881a-92533f837ba0",
   "metadata": {},
   "outputs": [],
   "source": [
    "exp=\"\"\n",
    "exposures = []\n",
    "for r in results:\n",
    "   if r['exposure'] != exp:\n",
    "        exp=  r['exposure']\n",
    "        exposures.append(exp)\n",
    "\n",
    "print (f\"there are {len(exposures)} exposures\")\n",
    "print (exposures)\n"
   ]
  },
  {
   "cell_type": "markdown",
   "id": "12458153-0697-42ad-8682-289c715f138c",
   "metadata": {},
   "source": [
    "This is just getting the datasetref for an exposure (this is LSSTcam so that should be 189 images one per detector) unless the corner rafts show up"
   ]
  },
  {
   "cell_type": "code",
   "execution_count": null,
   "id": "d854339f-19da-406c-a02c-29e5961b7445",
   "metadata": {},
   "outputs": [],
   "source": [
    "datasetRefs = registry.queryDatasets(datasetType=datasetType,\n",
    "                                     where=f'exposure = {exposures[100]}')\n"
   ]
  },
  {
   "cell_type": "markdown",
   "id": "5b873a53-98cd-4c04-903e-e08a8b851a25",
   "metadata": {},
   "source": [
    "## Write fits \n",
    "Write out fits files for the first count images. \n",
    "By default you will not have enough space to write all the files."
   ]
  },
  {
   "cell_type": "code",
   "execution_count": null,
   "id": "5bf66e8b-a509-4298-85d2-fff92ca34d4c",
   "metadata": {},
   "outputs": [],
   "source": [
    "images = []\n",
    "count = 0 \n",
    "stop = 2  # just write this many images\n",
    "for count, exp in enumerate(datasetRefs):\n",
    "    fn=f\"Rubin-{exp.dataId['exposure']}-{exp.dataId['detector']}.fits\"\n",
    "    img = butler.get(datasetType,exp.dataId)\n",
    "    img.writeFits(fn)\n",
    "    images.append(exp)\n",
    "    if count >= stop -1:\n",
    "        break\n",
    "    \n",
    "print (f\"{count+1} images output\")"
   ]
  },
  {
   "cell_type": "markdown",
   "id": "177d0a06-dc9d-4b44-8af5-7c14d3e04f9b",
   "metadata": {},
   "source": [
    "Now we have Fits files we can use with external code.\n",
    "We get the list of files we made and process them with SEP (Source Extractor Python) as an example of external code. \n",
    "We will make a list of Objects and store that."
   ]
  },
  {
   "cell_type": "code",
   "execution_count": null,
   "id": "2ad6d14f-5e44-4bec-98fb-81608230c4e9",
   "metadata": {},
   "outputs": [],
   "source": [
    "import glob\n",
    "filelist = glob.glob('Rubin-*.fits')\n",
    "print (filelist)"
   ]
  },
  {
   "cell_type": "markdown",
   "id": "4acdb77a-ffbf-487e-8f59-d73e4d534aa1",
   "metadata": {},
   "source": [
    "## If you want to plot one of these "
   ]
  },
  {
   "cell_type": "code",
   "execution_count": null,
   "id": "a3a6ab8e-658b-4ffd-b765-2924e97773f2",
   "metadata": {},
   "outputs": [],
   "source": [
    "import pylab as plt\n",
    "import lsst.afw.display as afwDisplay\n",
    "\n",
    "afwDisplay.setDefaultBackend('matplotlib')\n",
    "\n",
    "for exp in datasetRefs:\n",
    "    dataId=exp.dataId\n",
    "    img = butler.get('raw', dataId=dataId)\n",
    "\n",
    "    fig = plt.figure()\n",
    "    display = afwDisplay.Display()\n",
    "    display.scale('linear', 'zscale')\n",
    "    display.mtv(img)\n",
    "    plt.show()"
   ]
  }
 ],
 "metadata": {
  "kernelspec": {
   "display_name": "LSST",
   "language": "python",
   "name": "lsst"
  },
  "language_info": {
   "codemirror_mode": {
    "name": "ipython",
    "version": 3
   },
   "file_extension": ".py",
   "mimetype": "text/x-python",
   "name": "python",
   "nbconvert_exporter": "python",
   "pygments_lexer": "ipython3",
   "version": "3.12.10"
  }
 },
 "nbformat": 4,
 "nbformat_minor": 5
}
