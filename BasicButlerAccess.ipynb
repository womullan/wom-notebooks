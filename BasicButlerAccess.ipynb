{
 "cells": [
  {
   "cell_type": "markdown",
   "id": "5f5acdc9-11e6-4bb7-8900-19031db81d4d",
   "metadata": {},
   "source": [
    "# extract FITS image  "
   ]
  },
  {
   "cell_type": "code",
   "execution_count": 1,
   "id": "6886f1f9-e461-4cb4-89d3-f1b966cac1b8",
   "metadata": {
    "execution": {
     "iopub.execute_input": "2024-12-20T13:39:53.241206Z",
     "iopub.status.busy": "2024-12-20T13:39:53.240872Z",
     "iopub.status.idle": "2024-12-20T13:39:54.005141Z",
     "shell.execute_reply": "2024-12-20T13:39:54.004715Z",
     "shell.execute_reply.started": "2024-12-20T13:39:53.241189Z"
    }
   },
   "outputs": [],
   "source": [
    "from lsst.daf.butler import Butler\n",
    "from lsst.daf.butler.registry import Registry\n"
   ]
  },
  {
   "cell_type": "code",
   "execution_count": 15,
   "id": "87423a9d-7b52-4ede-bdfc-95a136b33af7",
   "metadata": {
    "execution": {
     "iopub.execute_input": "2024-12-20T13:43:28.890797Z",
     "iopub.status.busy": "2024-12-20T13:43:28.890086Z",
     "iopub.status.idle": "2024-12-20T13:43:29.087198Z",
     "shell.execute_reply": "2024-12-20T13:43:29.086769Z",
     "shell.execute_reply.started": "2024-12-20T13:43:28.890780Z"
    }
   },
   "outputs": [],
   "source": [
    "repo = 'embargo'\n",
    "instrument = 'LSSTComCam'\n",
    "datasetType = 'raw'\n",
    "# raw all collection contains all images \n",
    "collections = [\"LSSTComCam/defaults\"]\n",
    "\n",
    "butler = Butler(repo, collections=collections, instrument=instrument)\n",
    "\n",
    "registry = butler.registry\n",
    "\n",
    "#uncomment to get the help page\n",
    "#help(registry) "
   ]
  },
  {
   "cell_type": "markdown",
   "id": "b72217c0-97dc-4f61-8984-6ca32928ce31",
   "metadata": {
    "tags": []
   },
   "source": [
    "## Find the exposures\n",
    "Listing the images could be done with butler using one of the tutorial queries.\n",
    "The GEO observatons were taken on 2024 Dec 17, day_obs = 20241107, BLOCK-T332.\n",
    "Keith mentioned there may be some other observations mixed in."
   ]
  },
  {
   "cell_type": "code",
   "execution_count": 16,
   "id": "3005a038-a9fc-485e-bb75-bd78023ce0be",
   "metadata": {
    "execution": {
     "iopub.execute_input": "2024-12-20T13:43:33.138004Z",
     "iopub.status.busy": "2024-12-20T13:43:33.137530Z",
     "iopub.status.idle": "2024-12-20T13:43:33.199801Z",
     "shell.execute_reply": "2024-12-20T13:43:33.199380Z",
     "shell.execute_reply.started": "2024-12-20T13:43:33.137987Z"
    }
   },
   "outputs": [
    {
     "name": "stdout",
     "output_type": "stream",
     "text": [
      "got 270 images\n"
     ]
    }
   ],
   "source": [
    "day = 20241207\n",
    "block = 'BLOCK-T332'\n",
    "dims = ['exposure']\n",
    "result = registry.queryDataIds(  datasets=datasetType, dimensions = dims,\n",
    "          where = f\"day_obs = {day}  AND exposure.science_program='{block}'\"\n",
    "                              )\n",
    "results = [r for r in result]\n",
    "\n",
    "print (f\"got {len(results)} images\")"
   ]
  },
  {
   "cell_type": "markdown",
   "id": "cdbfe194-95be-4a8c-8018-c94a9516a58d",
   "metadata": {},
   "source": [
    "ComCam has 9 images per exposure - this will list the exposures. \n",
    "The last digits after the daynumber  match the 'Seq. No.' in RubinTV"
   ]
  },
  {
   "cell_type": "code",
   "execution_count": 17,
   "id": "c221d1df-eee8-4eb3-881a-92533f837ba0",
   "metadata": {
    "execution": {
     "iopub.execute_input": "2024-12-20T13:43:36.184199Z",
     "iopub.status.busy": "2024-12-20T13:43:36.183999Z",
     "iopub.status.idle": "2024-12-20T13:43:36.187370Z",
     "shell.execute_reply": "2024-12-20T13:43:36.186990Z",
     "shell.execute_reply.started": "2024-12-20T13:43:36.184185Z"
    }
   },
   "outputs": [
    {
     "name": "stdout",
     "output_type": "stream",
     "text": [
      "there are {len(exposures)} exposures\n",
      "[2024120700539, 2024120700540, 2024120700541, 2024120700542, 2024120700543, 2024120700544, 2024120700545, 2024120700546, 2024120700547, 2024120700548, 2024120700549, 2024120700550, 2024120700560, 2024120700551, 2024120700552, 2024120700553, 2024120700554, 2024120700555, 2024120700556, 2024120700557, 2024120700558, 2024120700559, 2024120700561, 2024120700562, 2024120700563, 2024120700564, 2024120700565, 2024120700566, 2024120700567, 2024120700568]\n"
     ]
    }
   ],
   "source": [
    "exp=\"\"\n",
    "exposures = []\n",
    "for r in results:\n",
    "   if r['exposure'] != exp:\n",
    "        exp=  r['exposure']\n",
    "        exposures.append(exp)\n",
    "\n",
    "print (\"there are {len(exposures)} exposures\")\n",
    "print (exposures)\n"
   ]
  },
  {
   "cell_type": "code",
   "execution_count": null,
   "id": "5a03bde0-3e0e-4005-a720-6e867f1650ef",
   "metadata": {},
   "outputs": [],
   "source": []
  },
  {
   "cell_type": "markdown",
   "id": "12458153-0697-42ad-8682-289c715f138c",
   "metadata": {},
   "source": [
    "This is just getting the datasetref  the first exposure (this is comcam so that shoudl be 9 images one per detector)"
   ]
  },
  {
   "cell_type": "code",
   "execution_count": 18,
   "id": "d854339f-19da-406c-a02c-29e5961b7445",
   "metadata": {
    "execution": {
     "iopub.execute_input": "2024-12-20T13:43:43.997453Z",
     "iopub.status.busy": "2024-12-20T13:43:43.996926Z",
     "iopub.status.idle": "2024-12-20T13:43:44.147412Z",
     "shell.execute_reply": "2024-12-20T13:43:44.146992Z",
     "shell.execute_reply.started": "2024-12-20T13:43:43.997435Z"
    }
   },
   "outputs": [],
   "source": [
    "datasetRefs = registry.queryDatasets(datasetType=datasetType,\n",
    "                                     where=f'exposure = {exposures[3]}')\n"
   ]
  },
  {
   "cell_type": "markdown",
   "id": "5b873a53-98cd-4c04-903e-e08a8b851a25",
   "metadata": {},
   "source": [
    "## Write fits \n",
    "Write out fits files for the first count images. \n",
    "By default you will not have enough space to write all the files."
   ]
  },
  {
   "cell_type": "code",
   "execution_count": 19,
   "id": "5bf66e8b-a509-4298-85d2-fff92ca34d4c",
   "metadata": {
    "execution": {
     "iopub.execute_input": "2024-12-20T13:43:46.694623Z",
     "iopub.status.busy": "2024-12-20T13:43:46.694151Z",
     "iopub.status.idle": "2024-12-20T13:43:54.122098Z",
     "shell.execute_reply": "2024-12-20T13:43:54.121562Z",
     "shell.execute_reply.started": "2024-12-20T13:43:46.694609Z"
    }
   },
   "outputs": [
    {
     "name": "stdout",
     "output_type": "stream",
     "text": [
      "9 images output\n"
     ]
    }
   ],
   "source": [
    "images = []\n",
    "for count, exp in enumerate(datasetRefs):\n",
    "    fn=f\"Rubin-{exp.dataId['exposure']}-{exp.dataId['detector']}.fits\"\n",
    "    img = butler.get(datasetType,exp.dataId)\n",
    "    img.writeFits(fn)\n",
    "    images.append(exp)\n",
    "    \n",
    "print (f\"{count+1} images output\")"
   ]
  },
  {
   "cell_type": "markdown",
   "id": "177d0a06-dc9d-4b44-8af5-7c14d3e04f9b",
   "metadata": {},
   "source": [
    "Now we have Fits files we can use with external code.\n",
    "We get the list of files we made and process them with SEP (Source Extractor Python) as an example of external code. \n",
    "We will make a list of Objects and store that."
   ]
  },
  {
   "cell_type": "code",
   "execution_count": null,
   "id": "2ad6d14f-5e44-4bec-98fb-81608230c4e9",
   "metadata": {
    "execution": {
     "iopub.status.busy": "2024-12-20T13:39:55.486340Z",
     "iopub.status.idle": "2024-12-20T13:39:55.486515Z",
     "shell.execute_reply": "2024-12-20T13:39:55.486436Z",
     "shell.execute_reply.started": "2024-12-20T13:39:55.486427Z"
    }
   },
   "outputs": [],
   "source": [
    "import glob\n",
    "filelist = glob.glob('Rubin-*.fits')\n",
    "print (filelist)"
   ]
  },
  {
   "cell_type": "markdown",
   "id": "4acdb77a-ffbf-487e-8f59-d73e4d534aa1",
   "metadata": {},
   "source": [
    "## If you want to plot one of these "
   ]
  },
  {
   "cell_type": "code",
   "execution_count": null,
   "id": "a3a6ab8e-658b-4ffd-b765-2924e97773f2",
   "metadata": {
    "execution": {
     "iopub.status.busy": "2024-12-20T13:39:55.486874Z",
     "iopub.status.idle": "2024-12-20T13:39:55.487021Z",
     "shell.execute_reply": "2024-12-20T13:39:55.486952Z",
     "shell.execute_reply.started": "2024-12-20T13:39:55.486945Z"
    }
   },
   "outputs": [],
   "source": [
    "import pylab as plt\n",
    "import lsst.afw.display as afwDisplay\n",
    "\n",
    "afwDisplay.setDefaultBackend('matplotlib')\n",
    "\n",
    "for exp in datasetRefs:\n",
    "    dataId=exp.dataId\n",
    "    img = butler.get('raw', dataId=dataId)\n",
    "\n",
    "    fig = plt.figure()\n",
    "    display = afwDisplay.Display()\n",
    "    display.scale('linear', 'zscale')\n",
    "    display.mtv(img)\n",
    "    plt.show()"
   ]
  }
 ],
 "metadata": {
  "kernelspec": {
   "display_name": "LSST",
   "language": "python",
   "name": "lsst"
  },
  "language_info": {
   "codemirror_mode": {
    "name": "ipython",
    "version": 3
   },
   "file_extension": ".py",
   "mimetype": "text/x-python",
   "name": "python",
   "nbconvert_exporter": "python",
   "pygments_lexer": "ipython3",
   "version": "3.11.9"
  }
 },
 "nbformat": 4,
 "nbformat_minor": 5
}
